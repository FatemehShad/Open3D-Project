{
 "cells": [
  {
   "cell_type": "code",
   "execution_count": 17,
   "id": "099973ef-dde9-4147-92e3-1a8dd2155270",
   "metadata": {
    "scrolled": true
   },
   "outputs": [],
   "source": [
    "import open3d as o3d\n",
    "import numpy as np"
   ]
  },
  {
   "cell_type": "markdown",
   "id": "1e46967e-070e-49d6-a1ce-d29691ec91d3",
   "metadata": {},
   "source": [
    "### Read and Visualize PointCloud Data"
   ]
  },
  {
   "cell_type": "code",
   "execution_count": 8,
   "id": "59b19f09-a562-44be-a662-5ff3389fdef6",
   "metadata": {},
   "outputs": [
    {
     "name": "stdout",
     "output_type": "stream",
     "text": [
      "PointCloud with 196133 points.\n"
     ]
    }
   ],
   "source": [
    "\n",
    "#pcd = o3d.io.read_point_cloud(\"Data/PCDPointCloud/fragment.pcd\")\n",
    "ply_data = o3d.data.PLYPointCloud()\n",
    "pcd = o3d.io.read_point_cloud(ply_data.path)\n",
    "print(pcd)\n",
    "o3d.visualization.draw_geometries([pcd])"
   ]
  },
  {
   "cell_type": "markdown",
   "id": "f1b8a888-7494-4850-8e36-26f2c4a48590",
   "metadata": {},
   "source": [
    "### Voxel Downsampling"
   ]
  },
  {
   "cell_type": "code",
   "execution_count": 14,
   "id": "dcd31652-9e69-4e5c-8bfa-6e49b18a7917",
   "metadata": {},
   "outputs": [
    {
     "name": "stdout",
     "output_type": "stream",
     "text": [
      "PointCloud with 4718 points.\n"
     ]
    }
   ],
   "source": [
    "down_sampled_pcd = pcd.voxel_down_sample(voxel_size=0.05)\n",
    "print(down_sampled_pcd)\n",
    "o3d.visualization.draw_geometries([down_sampled_pcd])"
   ]
  },
  {
   "cell_type": "markdown",
   "id": "6d3ba230-c6d5-4b27-8982-cbd4b216695e",
   "metadata": {},
   "source": [
    "### Vertex normal estimation"
   ]
  },
  {
   "cell_type": "code",
   "execution_count": 16,
   "id": "f4a22b83-a7cb-4e27-bd73-df286a4a17b9",
   "metadata": {},
   "outputs": [
    {
     "name": "stdout",
     "output_type": "stream",
     "text": [
      "PointCloud with 4718 points.\n"
     ]
    }
   ],
   "source": [
    "down_sampled_pcd.estimate_normals(\n",
    "    search_param = o3d.geometry.KDTreeSearchParamHybrid(radius=0.1, max_nn=30)\n",
    ")\n",
    "print(down_sampled_pcd)\n",
    "o3d.visualization.draw_geometries([down_sampled_pcd], point_show_normal=True)"
   ]
  },
  {
   "cell_type": "code",
   "execution_count": 21,
   "id": "b577e1c4-54fe-4c5c-8307-2f253f8004a8",
   "metadata": {},
   "outputs": [
    {
     "name": "stdout",
     "output_type": "stream",
     "text": [
      "[[ 8.56415744e-01  1.69301342e-02 -5.16009150e-01]\n",
      " [-3.10071169e-01  3.92564590e-02 -9.49902522e-01]\n",
      " [-2.21066308e-01  2.07235365e-07 -9.75258780e-01]\n",
      " [-2.65577574e-01 -1.84601949e-01 -9.46250851e-01]\n",
      " [-7.91944115e-01 -2.92017206e-02 -6.09894891e-01]\n",
      " [-8.84912237e-02 -9.89400811e-01  1.15131831e-01]\n",
      " [ 6.28492508e-01 -6.12988948e-01 -4.78791935e-01]\n",
      " [ 7.28260110e-01 -4.73518839e-01 -4.95395924e-01]\n",
      " [-5.07368635e-03 -9.99572767e-01 -2.87844085e-02]\n",
      " [ 3.49295119e-01  1.16948013e-02 -9.36939780e-01]\n",
      " [ 9.63879057e-01 -1.93817972e-02 -2.65634166e-01]\n",
      " [-7.73339493e-02 -9.70899754e-01 -2.26656409e-01]\n",
      " [-1.87480649e-01 -1.40127186e-02 -9.82168341e-01]\n",
      " [-6.29023298e-01  2.17802117e-01 -7.46251920e-01]\n",
      " [-2.57274133e-01 -5.88119924e-01 -7.66762659e-01]\n",
      " [-1.40334733e-02 -9.99890756e-01 -4.64078965e-03]\n",
      " [-2.92329662e-01 -4.67586060e-01 -8.34210193e-01]\n",
      " [-4.05219839e-01  2.98790678e-01 -8.64014475e-01]\n",
      " [-2.91300296e-01  4.39182465e-02 -9.55623004e-01]\n",
      " [-3.50554292e-01 -5.02596961e-02 -9.35192842e-01]]\n"
     ]
    }
   ],
   "source": [
    "print(np.asarray(down_sampled_pcd.normals)[:20, :])"
   ]
  },
  {
   "cell_type": "markdown",
   "id": "583f5de4-9a70-4acf-a2ab-460222a79a68",
   "metadata": {},
   "source": [
    "### Crop Point Cloud"
   ]
  },
  {
   "cell_type": "code",
   "execution_count": null,
   "id": "059375a0-71ff-4b11-92d5-4f988e65d83c",
   "metadata": {},
   "outputs": [],
   "source": []
  }
 ],
 "metadata": {
  "kernelspec": {
   "display_name": "Python (Computer Vision)",
   "language": "python",
   "name": "computer_vision_env"
  },
  "language_info": {
   "codemirror_mode": {
    "name": "ipython",
    "version": 3
   },
   "file_extension": ".py",
   "mimetype": "text/x-python",
   "name": "python",
   "nbconvert_exporter": "python",
   "pygments_lexer": "ipython3",
   "version": "3.12.11"
  }
 },
 "nbformat": 4,
 "nbformat_minor": 5
}
